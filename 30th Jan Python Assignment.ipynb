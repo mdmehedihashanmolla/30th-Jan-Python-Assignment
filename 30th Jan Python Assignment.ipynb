{
 "cells": [
  {
   "cell_type": "markdown",
   "id": "b2c28bed-ac2c-4f13-933a-197fdcd56385",
   "metadata": {},
   "source": [
    "### 1.Write a Program to accept percentage from the user and display the grade according to the following criteria:"
   ]
  },
  {
   "cell_type": "code",
   "execution_count": 4,
   "id": "ad012967-6895-473c-b3a0-2374f5ca8c0e",
   "metadata": {},
   "outputs": [
    {
     "name": "stdin",
     "output_type": "stream",
     "text": [
      "Enter Your Marks To See Your Grade:  99\n"
     ]
    },
    {
     "name": "stdout",
     "output_type": "stream",
     "text": [
      "Your Grade is A\n"
     ]
    }
   ],
   "source": [
    "Marks = int(input(\"Enter Your Marks To See Your Grade: \"))\n",
    "if Marks>90 and Marks<=100:\n",
    "    print(\"Your Grade is A\")\n",
    "elif Marks>80 and Marks<=90:\n",
    "    print(\"Your Grade is B\")\n",
    "elif Marks>=60 and Marks<=80:\n",
    "    print(\"Your Mark is C\")\n",
    "elif Marks <60 and Marks<=1:\n",
    "    print(\"Your Grade is D\")\n",
    "else: \n",
    "    print(\"Please Input a Valid Marks\")"
   ]
  },
  {
   "cell_type": "markdown",
   "id": "ee5b0b38-0309-4895-8ee3-93e8f261eaa2",
   "metadata": {},
   "source": [
    "### 2. Write a Program to accept the cost price of a bike and display the road tax to be paid according to the following criteria:"
   ]
  },
  {
   "cell_type": "code",
   "execution_count": 18,
   "id": "5958e3a5-3ea1-428e-9922-00a46406fa32",
   "metadata": {},
   "outputs": [
    {
     "name": "stdin",
     "output_type": "stream",
     "text": [
      "Enter Your Bike Price:  454\n"
     ]
    },
    {
     "name": "stdout",
     "output_type": "stream",
     "text": [
      "The Bike Cost After Assigning 5% tax is 476.70000000000005\n"
     ]
    }
   ],
   "source": [
    "Bike_Price = int(input(\"Enter Your Bike Price: \"))\n",
    "if Bike_Price>100000:\n",
    "    print(f\"The Bike Cost After Assigning 15% tax is {Bike_Price*1.15}\")\n",
    "elif Bike_Price>50000 and Bike_Price<=100000:\n",
    "    print(f\"The Bike Cost After Assigning 10% tax is {Bike_Price*1.10}\")\n",
    "elif Bike_Price <= 50000 :\n",
    "    print(f\"The Bike Cost After Assigning 5% tax is {Bike_Price*1.05}\")\n",
    "\n"
   ]
  },
  {
   "cell_type": "markdown",
   "id": "3e68b559-94c2-4641-a94b-959359426c2d",
   "metadata": {},
   "source": [
    "### 3. Accept  any city from the user and display monuments of that city: "
   ]
  },
  {
   "cell_type": "code",
   "execution_count": 24,
   "id": "a67e810f",
   "metadata": {},
   "outputs": [
    {
     "name": "stdin",
     "output_type": "stream",
     "text": [
      "Enter Your City Name to See the Monuments of Your City:   delf\n"
     ]
    },
    {
     "name": "stdout",
     "output_type": "stream",
     "text": [
      "Records Not Found\n"
     ]
    }
   ],
   "source": [
    "City_Name = str(input(\"Enter Your City Name to See the Monuments of Your City:  \"))\n",
    "if City_Name==\"Delhi\":\n",
    "    print(f\"The Monuments of {City_Name} is Red Fort\")\n",
    "elif City_Name==\"Agra\":\n",
    "    print(f\"The Monuments of {City_Name} is Taj Mahal\")\n",
    "elif City_Name == \"Jaipur\":\n",
    "    print(f\"The Monuments of {City_Name} is Jai Mahal\")\n",
    "else: \n",
    "    print(\"Records Not Found\")"
   ]
  },
  {
   "cell_type": "markdown",
   "id": "2220ff45-4ea3-4292-a480-2464945d750a",
   "metadata": {},
   "source": [
    "### 4. Check how many times a given number can be divided by 3 before it is less than or equal to 10."
   ]
  },
  {
   "cell_type": "code",
   "execution_count": 29,
   "id": "fb92f1b9-8807-4fa1-8772-f3491a761681",
   "metadata": {},
   "outputs": [
    {
     "name": "stdin",
     "output_type": "stream",
     "text": [
      "Enter a Number:   7\n"
     ]
    },
    {
     "name": "stdout",
     "output_type": "stream",
     "text": [
      "0\n"
     ]
    }
   ],
   "source": [
    "Number = int(input(\"Enter a Number:  \"))\n",
    "count = 0\n",
    "while Number>10:\n",
    "    Number = Number/3\n",
    "    count +=1\n",
    "print(count)\n"
   ]
  },
  {
   "cell_type": "markdown",
   "id": "adc27e14-f40f-4768-9474-1a63f8082599",
   "metadata": {},
   "source": [
    "### 5. Why and When to use while Loop in python give a detailed description with example:"
   ]
  },
  {
   "cell_type": "markdown",
   "id": "54ecfc84-175a-4543-95f8-f8ed95d4e49a",
   "metadata": {},
   "source": [
    "## Why\n",
    "### The while loop in Python is used when we want to repeatedly execute a block of code as long as a specific condition remains true. It allows us to automate tasks by iterating until a certain condition is no longer met.\n",
    "## When\n",
    "### We can use a while loop when we need to repeat a task an unknown number of times or when we want to keep executing code until a particular condition is satisfied. It provides a flexible way to handle situations where we don't know the exact number of iterations in advance"
   ]
  },
  {
   "cell_type": "code",
   "execution_count": 31,
   "id": "1a345f42-f35d-4aa6-adda-032197070de1",
   "metadata": {},
   "outputs": [
    {
     "name": "stdin",
     "output_type": "stream",
     "text": [
      "Enter a number:  5\n",
      "Enter a number:  4\n",
      "Enter a number:  3\n",
      "Enter a number:  656565\n",
      "Enter a number:  455\n"
     ]
    },
    {
     "name": "stdout",
     "output_type": "stream",
     "text": [
      "The average of the numbers is: 131406.4\n"
     ]
    },
    {
     "data": {
      "text/plain": [
       "'\\nThis example showcases the usage of a while loop to repetitively collect input and perform calculations until a specified condition is met, in this case, entering 5 numbers.\\n'"
      ]
     },
     "execution_count": 31,
     "metadata": {},
     "output_type": "execute_result"
    }
   ],
   "source": [
    "total = 0\n",
    "count = 1\n",
    "\n",
    "while count <= 5:\n",
    "    number = int(input(\"Enter a number: \"))\n",
    "    total += number\n",
    "    count += 1\n",
    "\n",
    "average = total / 5\n",
    "print(f\"The average of the numbers is: {average}\")\n",
    "\"\"\"\n",
    "This example showcases the usage of a while loop to repetitively collect input and perform calculations until a specified condition is met, in this case, entering 5 numbers.\n",
    "\"\"\""
   ]
  },
  {
   "cell_type": "markdown",
   "id": "48660d1d-4707-44a1-a885-69224aabb686",
   "metadata": {},
   "source": [
    "### 6. Use Nested While loops to print 3 different pattern "
   ]
  },
  {
   "cell_type": "code",
   "execution_count": 33,
   "id": "0331d25a-dce7-4c9f-b43d-a043cd44cea9",
   "metadata": {},
   "outputs": [
    {
     "name": "stdout",
     "output_type": "stream",
     "text": [
      "* * * * * \n",
      "* * * * * \n",
      "* * * * * \n",
      "* * * * * \n",
      "* * * * * \n"
     ]
    }
   ],
   "source": [
    "# Sqare Patter\n",
    "Row = 1\n",
    "\n",
    "while Row<=5:\n",
    "    col = 1\n",
    "    while col <=5:\n",
    "        print(\"*\", end=\" \")\n",
    "        col += 1\n",
    "    print()\n",
    "    Row +=1"
   ]
  },
  {
   "cell_type": "code",
   "execution_count": 1,
   "id": "2f808b84-6854-492d-8215-c1697d0df287",
   "metadata": {},
   "outputs": [
    {
     "name": "stdout",
     "output_type": "stream",
     "text": [
      "* \n",
      "* * \n",
      "* * * \n",
      "* * * * \n",
      "* * * * * \n"
     ]
    }
   ],
   "source": [
    "# Tringle\n",
    "row = 1\n",
    "while row <=5:\n",
    "    col =1\n",
    "    while col <= row:\n",
    "        print(\"*\", end =\" \")\n",
    "        col +=1\n",
    "    print()\n",
    "    row += 1"
   ]
  },
  {
   "cell_type": "code",
   "execution_count": 3,
   "id": "50ea4468-b6cf-47b1-b87f-2f631a533f17",
   "metadata": {},
   "outputs": [
    {
     "name": "stdout",
     "output_type": "stream",
     "text": [
      "* * * * * \n",
      "* * * * \n",
      "* * * \n",
      "* * \n",
      "* \n"
     ]
    }
   ],
   "source": [
    "# Reverse Tringle\n",
    "row = 5\n",
    "while row >=1:\n",
    "    col =1\n",
    "    while col <= row:\n",
    "        print(\"*\", end =\" \")\n",
    "        col +=1\n",
    "    print()\n",
    "    row -= 1"
   ]
  },
  {
   "cell_type": "markdown",
   "id": "ebf88f60-8ed1-442e-84eb-0d56e98865fa",
   "metadata": {},
   "source": [
    "### 7. Reverse a while loop to display numbers from 10 to 1"
   ]
  },
  {
   "cell_type": "code",
   "execution_count": 8,
   "id": "43d0ae64-8add-4f66-b0a2-e34cccc354e5",
   "metadata": {},
   "outputs": [
    {
     "name": "stdout",
     "output_type": "stream",
     "text": [
      "10\n",
      "9\n",
      "8\n",
      "7\n",
      "6\n",
      "5\n",
      "4\n",
      "3\n",
      "2\n",
      "1\n"
     ]
    }
   ],
   "source": [
    "i = 10\n",
    "while i>=1:\n",
    "    print(i)\n",
    "\n",
    "    i -= 1\n"
   ]
  },
  {
   "cell_type": "code",
   "execution_count": null,
   "id": "364d2744-b67e-4660-bed9-5282227a62f1",
   "metadata": {},
   "outputs": [],
   "source": []
  }
 ],
 "metadata": {
  "kernelspec": {
   "display_name": "Python 3 (ipykernel)",
   "language": "python",
   "name": "python3"
  },
  "language_info": {
   "codemirror_mode": {
    "name": "ipython",
    "version": 3
   },
   "file_extension": ".py",
   "mimetype": "text/x-python",
   "name": "python",
   "nbconvert_exporter": "python",
   "pygments_lexer": "ipython3",
   "version": "3.10.6"
  }
 },
 "nbformat": 4,
 "nbformat_minor": 5
}
